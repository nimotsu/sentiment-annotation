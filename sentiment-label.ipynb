{
 "cells": [
  {
   "cell_type": "code",
   "execution_count": 1,
   "metadata": {},
   "outputs": [],
   "source": [
    "import pandas as pd\n",
    "import matplotlib.pyplot as plt\n",
    "from wordcloud import WordCloud, STOPWORDS"
   ]
  },
  {
   "cell_type": "markdown",
   "metadata": {},
   "source": [
    "## Lexicon labelling\n",
    "\n",
    "Label review based on [lexicon](https://saifmohammad.com/WebPages/NRC-Emotion-Lexicon.htm)."
   ]
  },
  {
   "cell_type": "code",
   "execution_count": null,
   "metadata": {},
   "outputs": [],
   "source": [
    "lexicon = pd.read_csv(\"NRC-Emotion-Lexicon/NRC-Emotion-Lexicon-v0.92/NRC-Emotion-Lexicon-Wordlevel-v0.92.txt\",\n",
    "                      sep='\\t', names=['Word', 'Emotion', 'Yes'])\n",
    "review = pd.read_excel('XunWei Data Annotation.xlsx')\n",
    "\n",
    "sentiment = ['negative', 'positive']\n",
    "emotion = ['anger', 'anticipation', 'disgust', 'fear', 'joy', 'sadness', 'surprise', 'trust']"
   ]
  },
  {
   "cell_type": "code",
   "execution_count": null,
   "metadata": {
    "scrolled": true
   },
   "outputs": [],
   "source": [
    "def generateLexi(col):\n",
    "    df = lexicon[(lexicon['Emotion'] == col) & (lexicon['Yes'] == 1)]\n",
    "    return df\n",
    "\n",
    "def compareSenti(word, label=sentiment):\n",
    "    for j in label:\n",
    "        lst = generateLexi(j)['Word']\n",
    "    \n",
    "        for i in lst:\n",
    "            if \" \" + i.strip() + \" \" in word:\n",
    "                return j\n",
    "            \n",
    "def compareEmo(word, label=emotion):\n",
    "    for j in label:\n",
    "        lst = generateLexi(j)['Word']\n",
    "    \n",
    "        for i in lst:\n",
    "            if \" \" + i.strip() + \" \" in word:\n",
    "                return j"
   ]
  },
  {
   "cell_type": "code",
   "execution_count": null,
   "metadata": {},
   "outputs": [],
   "source": [
    "review['Sentiment'] = review['Review'].apply(compareSenti)\n",
    "review['Emotions'] = review['Review'].apply(compareEmo)"
   ]
  },
  {
   "cell_type": "code",
   "execution_count": null,
   "metadata": {
    "scrolled": true
   },
   "outputs": [],
   "source": [
    "review.head(30)"
   ]
  },
  {
   "cell_type": "code",
   "execution_count": null,
   "metadata": {},
   "outputs": [],
   "source": [
    "review = review.sort_values(by=['Emotions'])"
   ]
  },
  {
   "cell_type": "code",
   "execution_count": null,
   "metadata": {},
   "outputs": [],
   "source": [
    "review.to_excel('categorised1.xlsx')"
   ]
  },
  {
   "cell_type": "code",
   "execution_count": null,
   "metadata": {},
   "outputs": [],
   "source": [
    "review[review['Sentiment'] == 'positive']"
   ]
  },
  {
   "cell_type": "markdown",
   "metadata": {},
   "source": [
    "## Model\n",
    "\n",
    "https://www.kaggle.com/oumaimahourrane/sentiment-analysis-ml-models-comparison\n",
    "\n",
    "Automate labelling by building a model."
   ]
  },
  {
   "cell_type": "code",
   "execution_count": 15,
   "metadata": {},
   "outputs": [
    {
     "data": {
      "text/html": [
       "<div>\n",
       "<style scoped>\n",
       "    .dataframe tbody tr th:only-of-type {\n",
       "        vertical-align: middle;\n",
       "    }\n",
       "\n",
       "    .dataframe tbody tr th {\n",
       "        vertical-align: top;\n",
       "    }\n",
       "\n",
       "    .dataframe thead th {\n",
       "        text-align: right;\n",
       "    }\n",
       "</style>\n",
       "<table border=\"1\" class=\"dataframe\">\n",
       "  <thead>\n",
       "    <tr style=\"text-align: right;\">\n",
       "      <th></th>\n",
       "      <th>Number</th>\n",
       "      <th>Review ID</th>\n",
       "      <th>Review</th>\n",
       "      <th>Sentiment</th>\n",
       "      <th>Emotions</th>\n",
       "      <th>Unnamed: 6</th>\n",
       "      <th>Unnamed: 7</th>\n",
       "      <th>Unnamed: 8</th>\n",
       "      <th>Unnamed: 9</th>\n",
       "      <th>Unnamed: 10</th>\n",
       "      <th>Unnamed: 11</th>\n",
       "      <th>Unnamed: 12</th>\n",
       "      <th>Unnamed: 13</th>\n",
       "      <th>Unnamed: 14</th>\n",
       "      <th>Unnamed: 15</th>\n",
       "    </tr>\n",
       "  </thead>\n",
       "  <tbody>\n",
       "    <tr>\n",
       "      <th>0</th>\n",
       "      <td>1309</td>\n",
       "      <td>R2910</td>\n",
       "      <td>This is No #1 useless scam app in the world. I...</td>\n",
       "      <td>negative</td>\n",
       "      <td>anger</td>\n",
       "      <td>NaN</td>\n",
       "      <td>NaN</td>\n",
       "      <td>anger</td>\n",
       "      <td>anticipation</td>\n",
       "      <td>disgust</td>\n",
       "      <td>fear</td>\n",
       "      <td>joy</td>\n",
       "      <td>sadness</td>\n",
       "      <td>surprise</td>\n",
       "      <td>trust</td>\n",
       "    </tr>\n",
       "    <tr>\n",
       "      <th>1</th>\n",
       "      <td>729</td>\n",
       "      <td>R2330</td>\n",
       "      <td>Easy to use. But the most important thing boos...</td>\n",
       "      <td>positive</td>\n",
       "      <td>joy</td>\n",
       "      <td>NaN</td>\n",
       "      <td>NaN</td>\n",
       "      <td>positive</td>\n",
       "      <td>negative</td>\n",
       "      <td>neutral</td>\n",
       "      <td>NaN</td>\n",
       "      <td>NaN</td>\n",
       "      <td>NaN</td>\n",
       "      <td>NaN</td>\n",
       "      <td>NaN</td>\n",
       "    </tr>\n",
       "    <tr>\n",
       "      <th>2</th>\n",
       "      <td>951</td>\n",
       "      <td>R2552</td>\n",
       "      <td>I'm recently opted for secure2u for transactio...</td>\n",
       "      <td>negative</td>\n",
       "      <td>sadness</td>\n",
       "      <td>NaN</td>\n",
       "      <td>NaN</td>\n",
       "      <td>NaN</td>\n",
       "      <td>NaN</td>\n",
       "      <td>NaN</td>\n",
       "      <td>NaN</td>\n",
       "      <td>NaN</td>\n",
       "      <td>NaN</td>\n",
       "      <td>NaN</td>\n",
       "      <td>NaN</td>\n",
       "    </tr>\n",
       "    <tr>\n",
       "      <th>3</th>\n",
       "      <td>497</td>\n",
       "      <td>R498</td>\n",
       "      <td>what happen to boost app??? I can't log in and...</td>\n",
       "      <td>negative</td>\n",
       "      <td>fear</td>\n",
       "      <td>NaN</td>\n",
       "      <td>NaN</td>\n",
       "      <td>NaN</td>\n",
       "      <td>NaN</td>\n",
       "      <td>NaN</td>\n",
       "      <td>NaN</td>\n",
       "      <td>NaN</td>\n",
       "      <td>NaN</td>\n",
       "      <td>NaN</td>\n",
       "      <td>NaN</td>\n",
       "    </tr>\n",
       "    <tr>\n",
       "      <th>4</th>\n",
       "      <td>732</td>\n",
       "      <td>R2333</td>\n",
       "      <td>Worst apps I ever seen. When you are pay toll ...</td>\n",
       "      <td>negative</td>\n",
       "      <td>anger</td>\n",
       "      <td>NaN</td>\n",
       "      <td>NaN</td>\n",
       "      <td>NaN</td>\n",
       "      <td>NaN</td>\n",
       "      <td>NaN</td>\n",
       "      <td>NaN</td>\n",
       "      <td>NaN</td>\n",
       "      <td>NaN</td>\n",
       "      <td>NaN</td>\n",
       "      <td>NaN</td>\n",
       "    </tr>\n",
       "  </tbody>\n",
       "</table>\n",
       "</div>"
      ],
      "text/plain": [
       "   Number Review ID                                             Review  \\\n",
       "0    1309     R2910  This is No #1 useless scam app in the world. I...   \n",
       "1     729     R2330  Easy to use. But the most important thing boos...   \n",
       "2     951     R2552  I'm recently opted for secure2u for transactio...   \n",
       "3     497      R498  what happen to boost app??? I can't log in and...   \n",
       "4     732     R2333  Worst apps I ever seen. When you are pay toll ...   \n",
       "\n",
       "  Sentiment Emotions Unnamed: 6  Unnamed: 7 Unnamed: 8    Unnamed: 9  \\\n",
       "0  negative    anger        NaN         NaN      anger  anticipation   \n",
       "1  positive      joy        NaN         NaN   positive      negative   \n",
       "2  negative  sadness        NaN         NaN        NaN           NaN   \n",
       "3  negative     fear        NaN         NaN        NaN           NaN   \n",
       "4  negative    anger        NaN         NaN        NaN           NaN   \n",
       "\n",
       "  Unnamed: 10 Unnamed: 11 Unnamed: 12 Unnamed: 13 Unnamed: 14 Unnamed: 15  \n",
       "0     disgust        fear         joy     sadness    surprise       trust  \n",
       "1     neutral         NaN         NaN         NaN         NaN         NaN  \n",
       "2         NaN         NaN         NaN         NaN         NaN         NaN  \n",
       "3         NaN         NaN         NaN         NaN         NaN         NaN  \n",
       "4         NaN         NaN         NaN         NaN         NaN         NaN  "
      ]
     },
     "execution_count": 15,
     "metadata": {},
     "output_type": "execute_result"
    }
   ],
   "source": [
    "data = pd.read_excel('predicted.xlsx')\n",
    "\n",
    "# data = data.rename(columns = {'Unnamed: 0': 'Number'})\n",
    "data.drop(\"Unnamed: 0\", axis=1, inplace=True)\n",
    "# data = data[['Number', 'Review ID', 'Review', 'Sentiment', 'Emotions', 'Unnamed: 6']]\n",
    "data.head()"
   ]
  },
  {
   "cell_type": "code",
   "execution_count": 10,
   "metadata": {},
   "outputs": [
    {
     "data": {
      "text/html": [
       "<div>\n",
       "<style scoped>\n",
       "    .dataframe tbody tr th:only-of-type {\n",
       "        vertical-align: middle;\n",
       "    }\n",
       "\n",
       "    .dataframe tbody tr th {\n",
       "        vertical-align: top;\n",
       "    }\n",
       "\n",
       "    .dataframe thead th {\n",
       "        text-align: right;\n",
       "    }\n",
       "</style>\n",
       "<table border=\"1\" class=\"dataframe\">\n",
       "  <thead>\n",
       "    <tr style=\"text-align: right;\">\n",
       "      <th></th>\n",
       "      <th>Number</th>\n",
       "      <th>Review ID</th>\n",
       "      <th>Review</th>\n",
       "      <th>Sentiment</th>\n",
       "      <th>Emotions</th>\n",
       "      <th>Unnamed: 6</th>\n",
       "    </tr>\n",
       "  </thead>\n",
       "  <tbody>\n",
       "    <tr>\n",
       "      <th>727</th>\n",
       "      <td>9</td>\n",
       "      <td>R010</td>\n",
       "      <td>Only can use at certain tols surrounding KL ci...</td>\n",
       "      <td>negative</td>\n",
       "      <td>anger</td>\n",
       "      <td>12</td>\n",
       "    </tr>\n",
       "  </tbody>\n",
       "</table>\n",
       "</div>"
      ],
      "text/plain": [
       "     Number Review ID                                             Review  \\\n",
       "727       9      R010  Only can use at certain tols surrounding KL ci...   \n",
       "\n",
       "    Sentiment Emotions Unnamed: 6  \n",
       "727  negative    anger         12  "
      ]
     },
     "execution_count": 10,
     "metadata": {},
     "output_type": "execute_result"
    }
   ],
   "source": [
    "data[data['Unnamed: 6'] == 12]"
   ]
  },
  {
   "cell_type": "code",
   "execution_count": 52,
   "metadata": {},
   "outputs": [
    {
     "data": {
      "text/html": [
       "<div>\n",
       "<style scoped>\n",
       "    .dataframe tbody tr th:only-of-type {\n",
       "        vertical-align: middle;\n",
       "    }\n",
       "\n",
       "    .dataframe tbody tr th {\n",
       "        vertical-align: top;\n",
       "    }\n",
       "\n",
       "    .dataframe thead th {\n",
       "        text-align: right;\n",
       "    }\n",
       "</style>\n",
       "<table border=\"1\" class=\"dataframe\">\n",
       "  <thead>\n",
       "    <tr style=\"text-align: right;\">\n",
       "      <th></th>\n",
       "      <th>Review</th>\n",
       "      <th>Sentiment</th>\n",
       "    </tr>\n",
       "  </thead>\n",
       "  <tbody>\n",
       "    <tr>\n",
       "      <th>723</th>\n",
       "      <td>the best bank service ever</td>\n",
       "      <td>positive</td>\n",
       "    </tr>\n",
       "    <tr>\n",
       "      <th>724</th>\n",
       "      <td>I register new account, the apps show this num...</td>\n",
       "      <td>negative</td>\n",
       "    </tr>\n",
       "    <tr>\n",
       "      <th>725</th>\n",
       "      <td>Wish that I could perform Tabung Haji transact...</td>\n",
       "      <td>negative</td>\n",
       "    </tr>\n",
       "    <tr>\n",
       "      <th>726</th>\n",
       "      <td>Needed more merchants to participate, such as ...</td>\n",
       "      <td>negative</td>\n",
       "    </tr>\n",
       "    <tr>\n",
       "      <th>727</th>\n",
       "      <td>Only can use at certain tols surrounding KL ci...</td>\n",
       "      <td>negative</td>\n",
       "    </tr>\n",
       "  </tbody>\n",
       "</table>\n",
       "</div>"
      ],
      "text/plain": [
       "                                                Review Sentiment\n",
       "723                         the best bank service ever  positive\n",
       "724  I register new account, the apps show this num...  negative\n",
       "725  Wish that I could perform Tabung Haji transact...  negative\n",
       "726  Needed more merchants to participate, such as ...  negative\n",
       "727  Only can use at certain tols surrounding KL ci...  negative"
      ]
     },
     "execution_count": 52,
     "metadata": {},
     "output_type": "execute_result"
    }
   ],
   "source": [
    "current_x = 727\n",
    "\n",
    "train_senti = data[['Review', 'Sentiment']].loc[:current_x]\n",
    "train_senti.tail()"
   ]
  },
  {
   "cell_type": "code",
   "execution_count": 39,
   "metadata": {},
   "outputs": [],
   "source": [
    "train_senti = data[['Review', 'Sentiment']].loc[:current_x]\n",
    "train_emo = data[['Review', 'Emotions']].loc[:current_x]\n",
    "train_emo['Emotions'].fillna('neutral', inplace=True)\n",
    "train_senti['Sentiment'].fillna('neutral', inplace=True)\n",
    "# train.drop(train[train.Sentiment == 'neutral'].index, axis=0, inplace=True)"
   ]
  },
  {
   "cell_type": "markdown",
   "metadata": {},
   "source": [
    "### Wordcloud"
   ]
  },
  {
   "cell_type": "code",
   "execution_count": 6,
   "metadata": {},
   "outputs": [],
   "source": [
    "plt.style.use('fivethirtyeight')\n",
    "\n",
    "%matplotlib inline\n",
    "%config InlineBackend.figure_format = 'retina'\n",
    "\n",
    "def plot_cloud(train, label):\n",
    "    label_tweets = train[train.iloc[:, 1] == label]\n",
    "    label_string = []\n",
    "    for t in label_tweets.Review:\n",
    "        label_string.append(t)\n",
    "    label_string = pd.Series(label_string).str.cat(sep=' ')\n",
    "    from wordcloud import WordCloud\n",
    "\n",
    "    wordcloud = WordCloud(width=1600, height=600,max_font_size=200, background_color='white').generate(label_string)\n",
    "    plt.figure(figsize=(12,10))\n",
    "    plt.imshow(wordcloud, interpolation=\"bilinear\")\n",
    "    plt.axis(\"off\")\n",
    "    plt.show()\n",
    "    \n",
    "plot_cloud(train_emo, 'anger')"
   ]
  },
  {
   "cell_type": "markdown",
   "metadata": {},
   "source": [
    "### Build model"
   ]
  },
  {
   "cell_type": "code",
   "execution_count": 19,
   "metadata": {},
   "outputs": [],
   "source": [
    "from sklearn.model_selection import train_test_split\n",
    "from sklearn.preprocessing import LabelBinarizer\n",
    "SEED = 2000"
   ]
  },
  {
   "cell_type": "code",
   "execution_count": 41,
   "metadata": {},
   "outputs": [],
   "source": [
    "def preprocess(label):\n",
    "    if label == 'senti':\n",
    "        lb = LabelBinarizer()\n",
    "        x_train, x_validation, y_train, y_validation = train_test_split(\n",
    "            train_senti.Review,lb.fit_transform(train_senti[['Sentiment']]), test_size=.2, random_state=SEED)\n",
    "    elif label == 'emo':\n",
    "        lb = LabelBinarizer()\n",
    "        x_train, x_validation, y_train, y_validation = train_test_split(\n",
    "            train_emo.Review,lb.fit_transform(train_emo[['Emotions']]), test_size=.2, random_state=SEED)\n",
    "    return lb, x_train, x_validation, y_train, y_validation"
   ]
  },
  {
   "cell_type": "markdown",
   "metadata": {},
   "source": [
    "### Prediction"
   ]
  },
  {
   "cell_type": "code",
   "execution_count": 21,
   "metadata": {},
   "outputs": [],
   "source": [
    "from sklearn.pipeline import Pipeline\n",
    "from sklearn.feature_extraction.text import CountVectorizer\n",
    "from sklearn.feature_extraction.text import TfidfVectorizer\n",
    "\n",
    "# Multi class\n",
    "from sklearn.tree import DecisionTreeClassifier\n",
    "from sklearn.naive_bayes import GaussianNB\n",
    "from sklearn.neighbors import KNeighborsClassifier\n",
    "from sklearn.discriminant_analysis import LinearDiscriminantAnalysis\n",
    "from sklearn.ensemble import RandomForestClassifier\n",
    "\n",
    "vec = TfidfVectorizer()"
   ]
  },
  {
   "cell_type": "code",
   "execution_count": 23,
   "metadata": {
    "scrolled": true
   },
   "outputs": [],
   "source": [
    "def train_model(x_train, y_train):\n",
    "    model = KNeighborsClassifier()\n",
    "    pipeline = Pipeline([\n",
    "                ('vectorizer', vec),\n",
    "                ('classifier', model)\n",
    "            ])\n",
    "    pipeline.fit(x_train, y_train)\n",
    "    return pipeline\n",
    "\n",
    "def predict_label(review):\n",
    "    return lb.inverse_transform(pipeline.predict(review))"
   ]
  },
  {
   "cell_type": "code",
   "execution_count": 48,
   "metadata": {},
   "outputs": [
    {
     "name": "stderr",
     "output_type": "stream",
     "text": [
      "/home/hsunwei/anaconda3/envs/project/lib/python3.7/site-packages/ipykernel_launcher.py:6: SettingWithCopyWarning: \n",
      "A value is trying to be set on a copy of a slice from a DataFrame.\n",
      "Try using .loc[row_indexer,col_indexer] = value instead\n",
      "\n",
      "See the caveats in the documentation: http://pandas.pydata.org/pandas-docs/stable/indexing.html#indexing-view-versus-copy\n",
      "  \n",
      "/home/hsunwei/anaconda3/envs/project/lib/python3.7/site-packages/ipykernel_launcher.py:11: SettingWithCopyWarning: \n",
      "A value is trying to be set on a copy of a slice from a DataFrame.\n",
      "Try using .loc[row_indexer,col_indexer] = value instead\n",
      "\n",
      "See the caveats in the documentation: http://pandas.pydata.org/pandas-docs/stable/indexing.html#indexing-view-versus-copy\n",
      "  # This is added back by InteractiveShellApp.init_path()\n"
     ]
    }
   ],
   "source": [
    "work = data.iloc[current_x -1:]\n",
    "\n",
    "# sentiment\n",
    "lb, x_train, x_validation, y_train, y_validation = preprocess('senti')\n",
    "pipeline = train_model(x_train, y_train)\n",
    "work['Sentiment'] = work[['Review']].apply(predict_label)\n",
    "\n",
    "# emotion\n",
    "lb, x_train, x_validation, y_train, y_validation = preprocess('emo')\n",
    "pipeline = train_model(x_train, y_train)\n",
    "work['Emotions'] = work[['Review']].apply(predict_label)"
   ]
  },
  {
   "cell_type": "code",
   "execution_count": 50,
   "metadata": {
    "scrolled": true
   },
   "outputs": [
    {
     "data": {
      "text/html": [
       "<div>\n",
       "<style scoped>\n",
       "    .dataframe tbody tr th:only-of-type {\n",
       "        vertical-align: middle;\n",
       "    }\n",
       "\n",
       "    .dataframe tbody tr th {\n",
       "        vertical-align: top;\n",
       "    }\n",
       "\n",
       "    .dataframe thead th {\n",
       "        text-align: right;\n",
       "    }\n",
       "</style>\n",
       "<table border=\"1\" class=\"dataframe\">\n",
       "  <thead>\n",
       "    <tr style=\"text-align: right;\">\n",
       "      <th></th>\n",
       "      <th>Number</th>\n",
       "      <th>Review ID</th>\n",
       "      <th>Review</th>\n",
       "      <th>Sentiment</th>\n",
       "      <th>Emotions</th>\n",
       "      <th>Unnamed: 6</th>\n",
       "      <th>Unnamed: 7</th>\n",
       "      <th>Unnamed: 8</th>\n",
       "      <th>Unnamed: 9</th>\n",
       "      <th>Unnamed: 10</th>\n",
       "      <th>Unnamed: 11</th>\n",
       "      <th>Unnamed: 12</th>\n",
       "      <th>Unnamed: 13</th>\n",
       "      <th>Unnamed: 14</th>\n",
       "      <th>Unnamed: 15</th>\n",
       "    </tr>\n",
       "  </thead>\n",
       "  <tbody>\n",
       "    <tr>\n",
       "      <th>726</th>\n",
       "      <td>276</td>\n",
       "      <td>R277</td>\n",
       "      <td>Needed more merchants to participate, such as ...</td>\n",
       "      <td>negative</td>\n",
       "      <td>anger</td>\n",
       "      <td>NaN</td>\n",
       "      <td>NaN</td>\n",
       "      <td>NaN</td>\n",
       "      <td>NaN</td>\n",
       "      <td>NaN</td>\n",
       "      <td>NaN</td>\n",
       "      <td>NaN</td>\n",
       "      <td>NaN</td>\n",
       "      <td>NaN</td>\n",
       "      <td>NaN</td>\n",
       "    </tr>\n",
       "    <tr>\n",
       "      <th>727</th>\n",
       "      <td>9</td>\n",
       "      <td>R010</td>\n",
       "      <td>Only can use at certain tols surrounding KL ci...</td>\n",
       "      <td>negative</td>\n",
       "      <td>anger</td>\n",
       "      <td>12</td>\n",
       "      <td>NaN</td>\n",
       "      <td>NaN</td>\n",
       "      <td>NaN</td>\n",
       "      <td>NaN</td>\n",
       "      <td>NaN</td>\n",
       "      <td>NaN</td>\n",
       "      <td>NaN</td>\n",
       "      <td>NaN</td>\n",
       "      <td>NaN</td>\n",
       "    </tr>\n",
       "    <tr>\n",
       "      <th>728</th>\n",
       "      <td>51</td>\n",
       "      <td>R052</td>\n",
       "      <td>why it says im already registered my account b...</td>\n",
       "      <td>negative</td>\n",
       "      <td>anger</td>\n",
       "      <td>NaN</td>\n",
       "      <td>NaN</td>\n",
       "      <td>NaN</td>\n",
       "      <td>NaN</td>\n",
       "      <td>NaN</td>\n",
       "      <td>NaN</td>\n",
       "      <td>NaN</td>\n",
       "      <td>NaN</td>\n",
       "      <td>NaN</td>\n",
       "      <td>NaN</td>\n",
       "    </tr>\n",
       "  </tbody>\n",
       "</table>\n",
       "</div>"
      ],
      "text/plain": [
       "     Number Review ID                                             Review  \\\n",
       "726     276      R277  Needed more merchants to participate, such as ...   \n",
       "727       9      R010  Only can use at certain tols surrounding KL ci...   \n",
       "728      51      R052  why it says im already registered my account b...   \n",
       "\n",
       "    Sentiment Emotions Unnamed: 6  Unnamed: 7 Unnamed: 8 Unnamed: 9  \\\n",
       "726  negative    anger        NaN         NaN        NaN        NaN   \n",
       "727  negative    anger         12         NaN        NaN        NaN   \n",
       "728  negative    anger        NaN         NaN        NaN        NaN   \n",
       "\n",
       "    Unnamed: 10 Unnamed: 11 Unnamed: 12 Unnamed: 13 Unnamed: 14 Unnamed: 15  \n",
       "726         NaN         NaN         NaN         NaN         NaN         NaN  \n",
       "727         NaN         NaN         NaN         NaN         NaN         NaN  \n",
       "728         NaN         NaN         NaN         NaN         NaN         NaN  "
      ]
     },
     "execution_count": 50,
     "metadata": {},
     "output_type": "execute_result"
    }
   ],
   "source": [
    "work[work['Sentiment'] == 'negative'].head(3)"
   ]
  },
  {
   "cell_type": "code",
   "execution_count": 49,
   "metadata": {
    "scrolled": false
   },
   "outputs": [
    {
     "data": {
      "text/html": [
       "<div>\n",
       "<style scoped>\n",
       "    .dataframe tbody tr th:only-of-type {\n",
       "        vertical-align: middle;\n",
       "    }\n",
       "\n",
       "    .dataframe tbody tr th {\n",
       "        vertical-align: top;\n",
       "    }\n",
       "\n",
       "    .dataframe thead th {\n",
       "        text-align: right;\n",
       "    }\n",
       "</style>\n",
       "<table border=\"1\" class=\"dataframe\">\n",
       "  <thead>\n",
       "    <tr style=\"text-align: right;\">\n",
       "      <th></th>\n",
       "      <th>Number</th>\n",
       "      <th>Review ID</th>\n",
       "      <th>Review</th>\n",
       "      <th>Sentiment</th>\n",
       "      <th>Emotions</th>\n",
       "      <th>Unnamed: 6</th>\n",
       "      <th>Unnamed: 7</th>\n",
       "      <th>Unnamed: 8</th>\n",
       "      <th>Unnamed: 9</th>\n",
       "      <th>Unnamed: 10</th>\n",
       "      <th>Unnamed: 11</th>\n",
       "      <th>Unnamed: 12</th>\n",
       "      <th>Unnamed: 13</th>\n",
       "      <th>Unnamed: 14</th>\n",
       "      <th>Unnamed: 15</th>\n",
       "    </tr>\n",
       "  </thead>\n",
       "  <tbody>\n",
       "    <tr>\n",
       "      <th>747</th>\n",
       "      <td>217</td>\n",
       "      <td>R218</td>\n",
       "      <td>Please include the function for us to authenti...</td>\n",
       "      <td>negative</td>\n",
       "      <td>anticipation</td>\n",
       "      <td>NaN</td>\n",
       "      <td>NaN</td>\n",
       "      <td>NaN</td>\n",
       "      <td>NaN</td>\n",
       "      <td>NaN</td>\n",
       "      <td>NaN</td>\n",
       "      <td>NaN</td>\n",
       "      <td>NaN</td>\n",
       "      <td>NaN</td>\n",
       "      <td>NaN</td>\n",
       "    </tr>\n",
       "    <tr>\n",
       "      <th>828</th>\n",
       "      <td>57</td>\n",
       "      <td>R058</td>\n",
       "      <td>After updated, your mission page can't get in!...</td>\n",
       "      <td>negative</td>\n",
       "      <td>anticipation</td>\n",
       "      <td>NaN</td>\n",
       "      <td>NaN</td>\n",
       "      <td>NaN</td>\n",
       "      <td>NaN</td>\n",
       "      <td>NaN</td>\n",
       "      <td>NaN</td>\n",
       "      <td>NaN</td>\n",
       "      <td>NaN</td>\n",
       "      <td>NaN</td>\n",
       "      <td>NaN</td>\n",
       "    </tr>\n",
       "    <tr>\n",
       "      <th>864</th>\n",
       "      <td>160</td>\n",
       "      <td>R161</td>\n",
       "      <td>Perfect! Please keep it as minimal as it is now.</td>\n",
       "      <td>negative</td>\n",
       "      <td>anticipation</td>\n",
       "      <td>NaN</td>\n",
       "      <td>NaN</td>\n",
       "      <td>NaN</td>\n",
       "      <td>NaN</td>\n",
       "      <td>NaN</td>\n",
       "      <td>NaN</td>\n",
       "      <td>NaN</td>\n",
       "      <td>NaN</td>\n",
       "      <td>NaN</td>\n",
       "      <td>NaN</td>\n",
       "    </tr>\n",
       "  </tbody>\n",
       "</table>\n",
       "</div>"
      ],
      "text/plain": [
       "     Number Review ID                                             Review  \\\n",
       "747     217      R218  Please include the function for us to authenti...   \n",
       "828      57      R058  After updated, your mission page can't get in!...   \n",
       "864     160      R161   Perfect! Please keep it as minimal as it is now.   \n",
       "\n",
       "    Sentiment      Emotions Unnamed: 6  Unnamed: 7 Unnamed: 8 Unnamed: 9  \\\n",
       "747  negative  anticipation        NaN         NaN        NaN        NaN   \n",
       "828  negative  anticipation        NaN         NaN        NaN        NaN   \n",
       "864  negative  anticipation        NaN         NaN        NaN        NaN   \n",
       "\n",
       "    Unnamed: 10 Unnamed: 11 Unnamed: 12 Unnamed: 13 Unnamed: 14 Unnamed: 15  \n",
       "747         NaN         NaN         NaN         NaN         NaN         NaN  \n",
       "828         NaN         NaN         NaN         NaN         NaN         NaN  \n",
       "864         NaN         NaN         NaN         NaN         NaN         NaN  "
      ]
     },
     "execution_count": 49,
     "metadata": {},
     "output_type": "execute_result"
    }
   ],
   "source": [
    "work[work['Emotions'] == 'anticipation'].head(3)"
   ]
  },
  {
   "cell_type": "code",
   "execution_count": 51,
   "metadata": {},
   "outputs": [],
   "source": [
    "result = pd.concat([data.loc[:current_x], work])\n",
    "result.to_excel('predicted2.xlsx')"
   ]
  },
  {
   "cell_type": "markdown",
   "metadata": {},
   "source": [
    "### Match data\n",
    "\n",
    "Match original data with annotated data."
   ]
  },
  {
   "cell_type": "code",
   "execution_count": 11,
   "metadata": {},
   "outputs": [],
   "source": [
    "ori = pd.read_excel('XunWei Data Annotation.xlsx')\n",
    "ori = ori[['Review ID', 'Review']]\n",
    "\n",
    "annotated = pd.read_excel('predicted.xlsx')\n",
    "annotated = annotated[['Review ID', 'Sentiment', 'Emotions']]"
   ]
  },
  {
   "cell_type": "code",
   "execution_count": 12,
   "metadata": {},
   "outputs": [
    {
     "data": {
      "text/html": [
       "<div>\n",
       "<style scoped>\n",
       "    .dataframe tbody tr th:only-of-type {\n",
       "        vertical-align: middle;\n",
       "    }\n",
       "\n",
       "    .dataframe tbody tr th {\n",
       "        vertical-align: top;\n",
       "    }\n",
       "\n",
       "    .dataframe thead th {\n",
       "        text-align: right;\n",
       "    }\n",
       "</style>\n",
       "<table border=\"1\" class=\"dataframe\">\n",
       "  <thead>\n",
       "    <tr style=\"text-align: right;\">\n",
       "      <th></th>\n",
       "      <th>Review ID</th>\n",
       "      <th>Review</th>\n",
       "    </tr>\n",
       "  </thead>\n",
       "  <tbody>\n",
       "    <tr>\n",
       "      <th>0</th>\n",
       "      <td>R001</td>\n",
       "      <td>so helpful..</td>\n",
       "    </tr>\n",
       "    <tr>\n",
       "      <th>1</th>\n",
       "      <td>R002</td>\n",
       "      <td>Not functioning at all after upgrading/update....</td>\n",
       "    </tr>\n",
       "  </tbody>\n",
       "</table>\n",
       "</div>"
      ],
      "text/plain": [
       "  Review ID                                             Review\n",
       "0      R001                                       so helpful..\n",
       "1      R002  Not functioning at all after upgrading/update...."
      ]
     },
     "execution_count": 12,
     "metadata": {},
     "output_type": "execute_result"
    }
   ],
   "source": [
    "ori.head(2)"
   ]
  },
  {
   "cell_type": "code",
   "execution_count": 14,
   "metadata": {},
   "outputs": [],
   "source": [
    "merged = pd.merge(ori, annotated, on='Review ID', how='left')\n",
    "\n",
    "merged['Emotions'].fillna('neutral', inplace=True)\n",
    "merged['Sentiment'].fillna('neutral', inplace=True)"
   ]
  },
  {
   "cell_type": "code",
   "execution_count": 17,
   "metadata": {
    "scrolled": true
   },
   "outputs": [
    {
     "data": {
      "text/html": [
       "<div>\n",
       "<style scoped>\n",
       "    .dataframe tbody tr th:only-of-type {\n",
       "        vertical-align: middle;\n",
       "    }\n",
       "\n",
       "    .dataframe tbody tr th {\n",
       "        vertical-align: top;\n",
       "    }\n",
       "\n",
       "    .dataframe thead th {\n",
       "        text-align: right;\n",
       "    }\n",
       "</style>\n",
       "<table border=\"1\" class=\"dataframe\">\n",
       "  <thead>\n",
       "    <tr style=\"text-align: right;\">\n",
       "      <th></th>\n",
       "      <th>Review ID</th>\n",
       "      <th>Review</th>\n",
       "      <th>Sentiment</th>\n",
       "      <th>Emotions</th>\n",
       "    </tr>\n",
       "  </thead>\n",
       "  <tbody>\n",
       "    <tr>\n",
       "      <th>0</th>\n",
       "      <td>R001</td>\n",
       "      <td>so helpful..</td>\n",
       "      <td>neutral</td>\n",
       "      <td>neutral</td>\n",
       "    </tr>\n",
       "    <tr>\n",
       "      <th>1</th>\n",
       "      <td>R002</td>\n",
       "      <td>Not functioning at all after upgrading/update....</td>\n",
       "      <td>neutral</td>\n",
       "      <td>neutral</td>\n",
       "    </tr>\n",
       "    <tr>\n",
       "      <th>2</th>\n",
       "      <td>R003</td>\n",
       "      <td>This is the biggest SCAM in this country at th...</td>\n",
       "      <td>negative</td>\n",
       "      <td>anger</td>\n",
       "    </tr>\n",
       "    <tr>\n",
       "      <th>3</th>\n",
       "      <td>R004</td>\n",
       "      <td>horrible apps. took me such a long time to loa...</td>\n",
       "      <td>negative</td>\n",
       "      <td>anger</td>\n",
       "    </tr>\n",
       "    <tr>\n",
       "      <th>4</th>\n",
       "      <td>R005</td>\n",
       "      <td>too frequent update version. troublesome</td>\n",
       "      <td>negative</td>\n",
       "      <td>anger</td>\n",
       "    </tr>\n",
       "  </tbody>\n",
       "</table>\n",
       "</div>"
      ],
      "text/plain": [
       "  Review ID                                             Review Sentiment  \\\n",
       "0      R001                                       so helpful..   neutral   \n",
       "1      R002  Not functioning at all after upgrading/update....   neutral   \n",
       "2      R003  This is the biggest SCAM in this country at th...  negative   \n",
       "3      R004  horrible apps. took me such a long time to loa...  negative   \n",
       "4      R005           too frequent update version. troublesome  negative   \n",
       "\n",
       "  Emotions  \n",
       "0  neutral  \n",
       "1  neutral  \n",
       "2    anger  \n",
       "3    anger  \n",
       "4    anger  "
      ]
     },
     "execution_count": 17,
     "metadata": {},
     "output_type": "execute_result"
    }
   ],
   "source": [
    "merged.head()"
   ]
  },
  {
   "cell_type": "code",
   "execution_count": 19,
   "metadata": {},
   "outputs": [],
   "source": [
    "merged.to_excel('Xun Wei annotated.xlsx', index=False)"
   ]
  },
  {
   "cell_type": "markdown",
   "metadata": {},
   "source": [
    "### Determine the best k"
   ]
  },
  {
   "cell_type": "code",
   "execution_count": null,
   "metadata": {},
   "outputs": [],
   "source": [
    "from sklearn.metrics import accuracy_score"
   ]
  },
  {
   "cell_type": "code",
   "execution_count": null,
   "metadata": {},
   "outputs": [],
   "source": [
    "Sum_of_squared_distances = []\n",
    "K = range(1,30)\n",
    "for k in K:\n",
    "    km = KNeighborsClassifier(n_neighbors=k)\n",
    "    pipeline = Pipeline([\n",
    "            ('vectorizer', vec),\n",
    "            ('classifier', model)\n",
    "        ])\n",
    "    pipeline.fit(x_train, y_train)\n",
    "    pred = pipeline.predict(x_validation)\n",
    "    w = accuracy_score(pred, y_validation)\n",
    "    Sum_of_squared_distances.append(w)"
   ]
  },
  {
   "cell_type": "code",
   "execution_count": null,
   "metadata": {},
   "outputs": [],
   "source": [
    "plt.plot(K, Sum_of_squared_distances, 'bx-')\n",
    "plt.xlabel('k')\n",
    "plt.ylabel('Sum_of_squared_distances')\n",
    "plt.title('Elbow Method For Optimal k')\n",
    "plt.show()"
   ]
  },
  {
   "cell_type": "markdown",
   "metadata": {},
   "source": [
    "#### Features extraction"
   ]
  },
  {
   "cell_type": "code",
   "execution_count": null,
   "metadata": {},
   "outputs": [],
   "source": [
    "# Binary class\n",
    "from sklearn.svm import LinearSVC\n",
    "from sklearn.ensemble import AdaBoostClassifier\n",
    "from sklearn.naive_bayes import MultinomialNB, BernoulliNB\n",
    "from sklearn.linear_model import RidgeClassifier, PassiveAggressiveClassifier, Perceptron, LogisticRegression\n",
    "from sklearn.neighbors import NearestCentroid\n",
    "from sklearn.feature_selection import SelectFromModel\n",
    "\n",
    "from sklearn.metrics import accuracy_score, precision_recall_curve, average_precision_score, roc_curve, auc\n",
    "import numpy as np\n",
    "from time import time"
   ]
  },
  {
   "cell_type": "code",
   "execution_count": null,
   "metadata": {},
   "outputs": [],
   "source": [
    "names = [\"Logistic Regression\", \"Linear SVC\", \"LinearSVC with L1-based feature selection\",\"Multinomial NB\", \n",
    "         \"Bernoulli NB\", \"Ridge Classifier\", \"AdaBoost\", \"Perceptron\",\"Passive-Aggresive\", \"Nearest Centroid\"]\n",
    "classifiers = [\n",
    "    LogisticRegression(),\n",
    "    LinearSVC(),\n",
    "    Pipeline([\n",
    "  ('feature_selection', SelectFromModel(LinearSVC(penalty=\"l1\", dual=False))),\n",
    "  ('classification', LinearSVC(penalty=\"l2\"))]),\n",
    "    MultinomialNB(),\n",
    "    BernoulliNB(),\n",
    "    RidgeClassifier(),\n",
    "    AdaBoostClassifier(),\n",
    "    Perceptron(),\n",
    "    PassiveAggressiveClassifier(),\n",
    "    NearestCentroid()\n",
    "    ]\n",
    "zipped_clf = zip(names,classifiers)\n",
    "\n",
    "vec = TfidfVectorizer()"
   ]
  },
  {
   "cell_type": "code",
   "execution_count": null,
   "metadata": {},
   "outputs": [],
   "source": [
    "def acc_summary(pipeline, x_train, y_train, x_test, y_test):\n",
    "    \n",
    "    sentiment_fit = pipeline.fit(x_train, y_train)\n",
    "    y_pred = sentiment_fit.predict(x_test)\n",
    "  \n",
    "    #Compute the accuracy\n",
    "    accuracy = accuracy_score(y_test, y_pred)\n",
    "    #Compute the precision and recall\n",
    "    precision, recall, _ = precision_recall_curve(y_test, y_pred)\n",
    "    #Compute the average precision\n",
    "    average_precision = average_precision_score(y_test, y_pred)\n",
    "  \n",
    "    fpr, tpr, _ = roc_curve(y_test, y_pred)\n",
    "    print('Average precision-recall score: {0:0.2f}'.format(average_precision))\n",
    "    print (\"accuracy score: {0:.2f}%\".format(accuracy*100))\n",
    "    print (\"-\"*80)\n",
    "    return accuracy, precision, recall, average_precision, fpr, tpr"
   ]
  },
  {
   "cell_type": "code",
   "execution_count": null,
   "metadata": {
    "scrolled": false
   },
   "outputs": [],
   "source": [
    "def classifier_comparator(vectorizer=vec, n_features=10000, stop_words=None, ngram_range=(1, 1), classifier=zipped_clf):\n",
    "    result = []\n",
    "    vectorizer.set_params(stop_words=stop_words, max_features=n_features, ngram_range=ngram_range)\n",
    "    for n,c in classifier:\n",
    "        checker_pipeline = Pipeline([\n",
    "            ('vectorizer', vectorizer),\n",
    "            ('classifier', c)\n",
    "        ])\n",
    "        print (\"Validation result for {}\".format(n))\n",
    "        print (c)\n",
    "        clf_acc, prec, rec, avg, fp, tp = acc_summary(checker_pipeline, x_train, y_train, x_validation, y_validation)\n",
    "        result.append((n,clf_acc,prec, rec, avg, fp, tp))\n",
    "    return result\n",
    "\n",
    "result = classifier_comparator(n_features=100000,ngram_range=(1,3))"
   ]
  }
 ],
 "metadata": {
  "kernelspec": {
   "display_name": "Python 3",
   "language": "python",
   "name": "python3"
  },
  "language_info": {
   "codemirror_mode": {
    "name": "ipython",
    "version": 3
   },
   "file_extension": ".py",
   "mimetype": "text/x-python",
   "name": "python",
   "nbconvert_exporter": "python",
   "pygments_lexer": "ipython3",
   "version": "3.7.3"
  }
 },
 "nbformat": 4,
 "nbformat_minor": 2
}
